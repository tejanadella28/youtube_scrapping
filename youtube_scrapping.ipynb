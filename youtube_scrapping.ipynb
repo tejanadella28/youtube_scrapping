{
 "cells": [
  {
   "cell_type": "code",
   "execution_count": 1,
   "id": "fa250edf-3e7b-4447-a7c4-8f2b373c92ce",
   "metadata": {},
   "outputs": [],
   "source": [
    "import chromedriver_binary\n",
    "from bs4 import BeautifulSoup\n",
    "from selenium import webdriver"
   ]
  },
  {
   "cell_type": "code",
   "execution_count": 3,
   "id": "178324c0-7c02-4759-a425-b3188bc3794d",
   "metadata": {},
   "outputs": [],
   "source": [
    "from selenium import webdriver"
   ]
  },
  {
   "cell_type": "code",
   "execution_count": 5,
   "id": "a9b5d1a2-6ee6-4b51-8c0f-1e04199b3b09",
   "metadata": {},
   "outputs": [
    {
     "name": "stdout",
     "output_type": "stream",
     "text": [
      "C:\\Users\\tejan\\anaconda3\\Lib\\site-packages\\chromedriver_binary\\chromedriver.exe\n"
     ]
    }
   ],
   "source": [
    "import chromedriver_binary  # This will download the binary if not already present\n",
    "from chromedriver_binary import chromedriver_filename\n",
    "\n",
    "print(chromedriver_filename)\n"
   ]
  },
  {
   "cell_type": "code",
   "execution_count": 7,
   "id": "81e681f9-39ea-4fb2-9abc-1c0e6580e327",
   "metadata": {},
   "outputs": [],
   "source": [
    "driver = webdriver.Chrome()\n",
    "driver.get('https://www.youtube.com/c/GeeksforGeeksVideos/videos')"
   ]
  },
  {
   "cell_type": "code",
   "execution_count": 37,
   "id": "06e2419d-4baf-4043-9ced-a2e5b17c1482",
   "metadata": {},
   "outputs": [],
   "source": [
    "soup = BeautifulSoup(driver.page_source , 'html.parser')"
   ]
  },
  {
   "cell_type": "code",
   "execution_count": null,
   "id": "429fd2b3-52d7-45f9-964d-a3809fe8b9ad",
   "metadata": {},
   "outputs": [],
   "source": [
    "print(soup.text.replace('\\n\\n',''))"
   ]
  },
  {
   "cell_type": "code",
   "execution_count": 39,
   "id": "815f3967-61ac-427b-b4fd-45d211e219be",
   "metadata": {},
   "outputs": [],
   "source": [
    "sp = soup.find_all('ytd-item-section-renderer')"
   ]
  },
  {
   "cell_type": "code",
   "execution_count": 41,
   "id": "bef968ea-8aa5-4dad-88e2-5185354c620b",
   "metadata": {},
   "outputs": [],
   "source": [
    "data = []\n",
    "for le in  soup.find_all('ytd-rich-grid-media'):\n",
    "    \n",
    "    title        =   le.find('a' , class_='yt-simple-endpoint focus-on-expand style-scope ytd-rich-grid-media').text\n",
    "    viedo_link   =   le.find('a' , class_='yt-simple-endpoint focus-on-expand style-scope ytd-rich-grid-media').get('href')\n",
    "    try:\n",
    "        views        =   le.find_all('span' , class_=\"inline-metadata-item style-scope ytd-video-meta-block\")[0].text\n",
    "    except:\n",
    "        views = np.nan\n",
    "    try:    \n",
    "        date         =   le.find_all('span' , class_=\"inline-metadata-item style-scope ytd-video-meta-block\")[1].text\n",
    "    except:\n",
    "        date = np.nan\n",
    "    try:\n",
    "       thumbnail_link =  le.find('img').get('src').split('?')[0]\n",
    "    except:  \n",
    "        thumbnail_link = np.nan\n",
    "        \n",
    "    data.append([title,viedo_link,views,date,thumbnail_link])    "
   ]
  },
  {
   "cell_type": "code",
   "execution_count": 43,
   "id": "70c6461a-62f0-4df5-84cd-19982f04b039",
   "metadata": {},
   "outputs": [],
   "source": [
    "import pandas as pd\n",
    "import numpy as np"
   ]
  },
  {
   "cell_type": "code",
   "execution_count": 45,
   "id": "f366a5e9-a852-42bc-9c9f-ff4cebdd55a8",
   "metadata": {},
   "outputs": [],
   "source": [
    "df = pd.DataFrame(data , columns = ['title','viedo_link','views','date','thumbnail_link'])"
   ]
  },
  {
   "cell_type": "code",
   "execution_count": 47,
   "id": "d1b5d56c-6419-4eb7-9ef4-d86851943ed2",
   "metadata": {},
   "outputs": [],
   "source": [
    "df.to_csv('data.csv' , index= False)"
   ]
  },
  {
   "cell_type": "code",
   "execution_count": 49,
   "id": "a1442ab2-cbfb-48b3-9d5c-867225ee8be8",
   "metadata": {},
   "outputs": [
    {
     "data": {
      "text/html": [
       "<div>\n",
       "<style scoped>\n",
       "    .dataframe tbody tr th:only-of-type {\n",
       "        vertical-align: middle;\n",
       "    }\n",
       "\n",
       "    .dataframe tbody tr th {\n",
       "        vertical-align: top;\n",
       "    }\n",
       "\n",
       "    .dataframe thead th {\n",
       "        text-align: right;\n",
       "    }\n",
       "</style>\n",
       "<table border=\"1\" class=\"dataframe\">\n",
       "  <thead>\n",
       "    <tr style=\"text-align: right;\">\n",
       "      <th></th>\n",
       "      <th>title</th>\n",
       "      <th>viedo_link</th>\n",
       "      <th>views</th>\n",
       "      <th>date</th>\n",
       "      <th>thumbnail_link</th>\n",
       "    </tr>\n",
       "  </thead>\n",
       "  <tbody>\n",
       "    <tr>\n",
       "      <th>0</th>\n",
       "      <td>Master Competitive Programming with this RoadM...</td>\n",
       "      <td>/watch?v=lozDmn15zcw</td>\n",
       "      <td>1.9K views</td>\n",
       "      <td>2 days ago</td>\n",
       "      <td>https://i.ytimg.com/vi/lozDmn15zcw/hqdefault.jpg</td>\n",
       "    </tr>\n",
       "    <tr>\n",
       "      <th>1</th>\n",
       "      <td>These Projects give you an UNFAIR ADVANTAGE | ...</td>\n",
       "      <td>/watch?v=KY73lTNeWzI</td>\n",
       "      <td>5K views</td>\n",
       "      <td>6 days ago</td>\n",
       "      <td>https://i.ytimg.com/vi/KY73lTNeWzI/hqdefault.jpg</td>\n",
       "    </tr>\n",
       "    <tr>\n",
       "      <th>2</th>\n",
       "      <td>I went to the House of a Google Project Manage...</td>\n",
       "      <td>/watch?v=cC8MjoYGedk</td>\n",
       "      <td>50K views</td>\n",
       "      <td>10 days ago</td>\n",
       "      <td>https://i.ytimg.com/vi/cC8MjoYGedk/hqdefault.jpg</td>\n",
       "    </tr>\n",
       "    <tr>\n",
       "      <th>3</th>\n",
       "      <td>Is the Tech Recession finally over? | Massive ...</td>\n",
       "      <td>/watch?v=wolOoIsBnew</td>\n",
       "      <td>3K views</td>\n",
       "      <td>13 days ago</td>\n",
       "      <td>https://i.ytimg.com/vi/wolOoIsBnew/hqdefault.jpg</td>\n",
       "    </tr>\n",
       "    <tr>\n",
       "      <th>4</th>\n",
       "      <td>Master Software Testing &amp; Automation | Career ...</td>\n",
       "      <td>/watch?v=b3uovZLWkVM</td>\n",
       "      <td>764 views</td>\n",
       "      <td>13 days ago</td>\n",
       "      <td>https://i.ytimg.com/vi/b3uovZLWkVM/hqdefault.jpg</td>\n",
       "    </tr>\n",
       "    <tr>\n",
       "      <th>...</th>\n",
       "      <td>...</td>\n",
       "      <td>...</td>\n",
       "      <td>...</td>\n",
       "      <td>...</td>\n",
       "      <td>...</td>\n",
       "    </tr>\n",
       "    <tr>\n",
       "      <th>1886</th>\n",
       "      <td>Length of shortest chain to reach a target wor...</td>\n",
       "      <td>/watch?v=6pIC20wCm20</td>\n",
       "      <td>43K views</td>\n",
       "      <td>8 years ago</td>\n",
       "      <td>https://i.ytimg.com/vi/6pIC20wCm20/hqdefault.jpg</td>\n",
       "    </tr>\n",
       "    <tr>\n",
       "      <th>1887</th>\n",
       "      <td>Binary Search | GeeksQuiz</td>\n",
       "      <td>/watch?v=T2sFYY-fT5o</td>\n",
       "      <td>191K views</td>\n",
       "      <td>8 years ago</td>\n",
       "      <td>https://i.ytimg.com/vi/T2sFYY-fT5o/hqdefault.jpg</td>\n",
       "    </tr>\n",
       "    <tr>\n",
       "      <th>1888</th>\n",
       "      <td>Number of Triangles in an Undirected Graph | G...</td>\n",
       "      <td>/watch?v=ChdNz1Ui1uc</td>\n",
       "      <td>19K views</td>\n",
       "      <td>8 years ago</td>\n",
       "      <td>https://i.ytimg.com/vi/ChdNz1Ui1uc/hqdefault.jpg</td>\n",
       "    </tr>\n",
       "    <tr>\n",
       "      <th>1889</th>\n",
       "      <td>Write a program to print all permutations of a...</td>\n",
       "      <td>/watch?v=AfxHGNRtFac</td>\n",
       "      <td>490K views</td>\n",
       "      <td>8 years ago</td>\n",
       "      <td>https://i.ytimg.com/vi/AfxHGNRtFac/hqdefault.jpg</td>\n",
       "    </tr>\n",
       "    <tr>\n",
       "      <th>1890</th>\n",
       "      <td>Longest Span with same Sum in two Binary array...</td>\n",
       "      <td>/watch?v=xtfj4-r_Ahs</td>\n",
       "      <td>304K views</td>\n",
       "      <td>8 years ago</td>\n",
       "      <td>https://i.ytimg.com/vi/xtfj4-r_Ahs/hqdefault.jpg</td>\n",
       "    </tr>\n",
       "  </tbody>\n",
       "</table>\n",
       "<p>1891 rows × 5 columns</p>\n",
       "</div>"
      ],
      "text/plain": [
       "                                                  title            viedo_link  \\\n",
       "0     Master Competitive Programming with this RoadM...  /watch?v=lozDmn15zcw   \n",
       "1     These Projects give you an UNFAIR ADVANTAGE | ...  /watch?v=KY73lTNeWzI   \n",
       "2     I went to the House of a Google Project Manage...  /watch?v=cC8MjoYGedk   \n",
       "3     Is the Tech Recession finally over? | Massive ...  /watch?v=wolOoIsBnew   \n",
       "4     Master Software Testing & Automation | Career ...  /watch?v=b3uovZLWkVM   \n",
       "...                                                 ...                   ...   \n",
       "1886  Length of shortest chain to reach a target wor...  /watch?v=6pIC20wCm20   \n",
       "1887                          Binary Search | GeeksQuiz  /watch?v=T2sFYY-fT5o   \n",
       "1888  Number of Triangles in an Undirected Graph | G...  /watch?v=ChdNz1Ui1uc   \n",
       "1889  Write a program to print all permutations of a...  /watch?v=AfxHGNRtFac   \n",
       "1890  Longest Span with same Sum in two Binary array...  /watch?v=xtfj4-r_Ahs   \n",
       "\n",
       "           views         date  \\\n",
       "0     1.9K views   2 days ago   \n",
       "1       5K views   6 days ago   \n",
       "2      50K views  10 days ago   \n",
       "3       3K views  13 days ago   \n",
       "4      764 views  13 days ago   \n",
       "...          ...          ...   \n",
       "1886   43K views  8 years ago   \n",
       "1887  191K views  8 years ago   \n",
       "1888   19K views  8 years ago   \n",
       "1889  490K views  8 years ago   \n",
       "1890  304K views  8 years ago   \n",
       "\n",
       "                                        thumbnail_link  \n",
       "0     https://i.ytimg.com/vi/lozDmn15zcw/hqdefault.jpg  \n",
       "1     https://i.ytimg.com/vi/KY73lTNeWzI/hqdefault.jpg  \n",
       "2     https://i.ytimg.com/vi/cC8MjoYGedk/hqdefault.jpg  \n",
       "3     https://i.ytimg.com/vi/wolOoIsBnew/hqdefault.jpg  \n",
       "4     https://i.ytimg.com/vi/b3uovZLWkVM/hqdefault.jpg  \n",
       "...                                                ...  \n",
       "1886  https://i.ytimg.com/vi/6pIC20wCm20/hqdefault.jpg  \n",
       "1887  https://i.ytimg.com/vi/T2sFYY-fT5o/hqdefault.jpg  \n",
       "1888  https://i.ytimg.com/vi/ChdNz1Ui1uc/hqdefault.jpg  \n",
       "1889  https://i.ytimg.com/vi/AfxHGNRtFac/hqdefault.jpg  \n",
       "1890  https://i.ytimg.com/vi/xtfj4-r_Ahs/hqdefault.jpg  \n",
       "\n",
       "[1891 rows x 5 columns]"
      ]
     },
     "execution_count": 49,
     "metadata": {},
     "output_type": "execute_result"
    }
   ],
   "source": [
    "pd.read_csv('data.csv')"
   ]
  },
  {
   "cell_type": "markdown",
   "id": "994d69a9-524b-4f56-acc3-03790f14eb3a",
   "metadata": {},
   "source": [
    "## now scrapping the data for_ video_link:"
   ]
  },
  {
   "cell_type": "code",
   "execution_count": 103,
   "id": "ff6e9540-5ddd-4480-a8b7-c5340c493ee4",
   "metadata": {},
   "outputs": [],
   "source": [
    "import time"
   ]
  },
  {
   "cell_type": "code",
   "execution_count": 117,
   "id": "2d67cca2-beaa-4c96-b97c-9b4b0f30b725",
   "metadata": {},
   "outputs": [
    {
     "name": "stdout",
     "output_type": "stream",
     "text": [
      "Master Competitive Programming with this RoadMap | *Free Resources Inside*\n",
      "1.9K views\n",
      "2 days ago\n",
      "132\n",
      "Competitive Coding Course :- https://www.geeksforgeeks.org/courses...Competitive Coding Article :- https://www.geeksforgeeks.org/competi... …...more...moreChaptersView allStartStart0:00Start0:00Best Competitive Coding LanguageBest Competitive Coding Language1:14Best Competitive Coding Language1:14How to StartHow to Start2:08How to Start2:08Coding Contest PreparationCoding Contest Preparation5:00Coding Contest Preparation5:00Competitive Programming vs ProjectsCompetitive Programming vs Projects6:15Competitive Programming vs Projects6:15TranscriptFollow along using the transcript.Show transcriptGeeksforGeeks      791K subscribers    VideosAboutVideosAboutXLinkedinInstagramShow less\n"
     ]
    }
   ],
   "source": [
    "for link in (df['viedo_link']):\n",
    "    \n",
    "    link = 'https://www.youtube.com' + link\n",
    "    driver.get(link)\n",
    "    \n",
    "    time.sleep(2)\n",
    "    \n",
    "    soup = BeautifulSoup(driver.page_source, 'html.parser')\n",
    "    title = soup.find('h1', class_=\"style-scope ytd-watch-metadata\").text.strip()\n",
    "    views = soup.find_all('span' , class_=\"bold style-scope yt-formatted-string\")[0].text\n",
    "    date = soup.find_all('span' , class_=\"bold style-scope yt-formatted-string\")[2].text\n",
    "    like = soup.find('button', class_ = 'yt-spec-button-shape-next yt-spec-button-shape-next--tonal yt-spec-button-shape-next--mono yt-spec-button-shape-next--size-m yt-spec-button-shape-next--icon-leading yt-spec-button-shape-next--segmented-start yt-spec-button-shape-next--enable-backdrop-filter-experiment').text\n",
    "    descrpition = soup.find('ytd-text-inline-expander' , id =\"description-inline-expander\").text.replace('\\n','')\n",
    "    print(title)\n",
    "    print(views)\n",
    "    print(date)\n",
    "    print(like)\n",
    "    print(descrpition)\n",
    "    break   ## using break for termanatae the program form first viedo beacuse we need to run the program for total viedo upto 7 to 8 hours..."
   ]
  },
  {
   "cell_type": "code",
   "execution_count": null,
   "id": "e98482d2-a69c-4b80-9c7e-e834bc46db06",
   "metadata": {},
   "outputs": [],
   "source": []
  }
 ],
 "metadata": {
  "kernelspec": {
   "display_name": "Python 3 (ipykernel)",
   "language": "python",
   "name": "python3"
  },
  "language_info": {
   "codemirror_mode": {
    "name": "ipython",
    "version": 3
   },
   "file_extension": ".py",
   "mimetype": "text/x-python",
   "name": "python",
   "nbconvert_exporter": "python",
   "pygments_lexer": "ipython3",
   "version": "3.12.4"
  }
 },
 "nbformat": 4,
 "nbformat_minor": 5
}
